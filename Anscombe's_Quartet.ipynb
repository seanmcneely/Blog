{
  "nbformat": 4,
  "nbformat_minor": 0,
  "metadata": {
    "colab": {
      "name": "Anscombe's Quartet.ipynb",
      "provenance": []
    },
    "kernelspec": {
      "name": "python3",
      "display_name": "Python 3"
    }
  },
  "cells": [
    {
      "cell_type": "code",
      "metadata": {
        "id": "HQvwt46Lq2PC",
        "colab_type": "code",
        "colab": {
          "base_uri": "https://localhost:8080/",
          "height": 706
        },
        "outputId": "15cd92ef-085e-400e-d2ef-8f09b912c094"
      },
      "source": [
        "import numpy as np\n",
        "from sklearn.linear_model import LinearRegression\n",
        "from sklearn.metrics import mean_squared_error, r2_score\n",
        "from matplotlib import pyplot as plt\n",
        "\n",
        "x_noisy = np.array([10.0, 8, 13, 9, 11, 14, 6, 4, 12, 7, 5]).reshape(-1, 1)\n",
        "y_noisy = np.array([8.04, 6.95, 7.58, 8.81, 8.33, 9.96, 7.24, 4.26, 10.84, 4.82, 5.68])\n",
        "\n",
        "x_poly = np.array([10, 8, 13, 9, 11, 14, 6, 4, 12, 7, 5]).reshape(-1, 1)\n",
        "y_poly = np.array([9.14, 8.14, 8.74, 8.77, 9.26, 8.1, 6.13, 3.1, 9.13, 7.26, 4.74])\n",
        "\n",
        "x_outlier = np.array([10, 8, 13, 9, 11, 14, 6, 4, 12, 7, 5]).reshape(-1, 1)\n",
        "y_outlier = np.array([7.46, 6.77, 12.74, 7.11, 7.81, 8.84, 6.08, 5.39, 8.15, 6.42, 5.73])\n",
        "\n",
        "x_hmm = np.array([8, 8, 8, 8, 8, 8, 8, 19, 8, 8, 8]).reshape(-1, 1)\n",
        "y_hmm = np.array([6.58, 5.76, 7.71, 8.84, 8.47, 7.04, 5.25, 12.5, 5.56, 7.91, 6.89])\n",
        "\n",
        "lreg = LinearRegression()\n",
        "lreg1 = LinearRegression()\n",
        "lreg2 = LinearRegression()\n",
        "lreg3 = LinearRegression()\n",
        "\n",
        "lreg.fit(x_noisy, y_noisy)\n",
        "lreg1.fit(x_poly, y_poly)\n",
        "lreg2.fit(x_outlier, y_outlier)\n",
        "lreg3.fit(x_hmm, y_hmm)\n",
        "\n",
        "print('Mean of x values \\nnoisy:', x_noisy.mean(), '\\npoly:', x_poly.mean(), \n",
        "      '\\noutlier:', x_outlier.mean(), '\\nhmm:', x_outlier.mean(), '\\n')\n",
        "\n",
        "print('Variance of x values \\nnoisy:', np.var(x_noisy),'\\npoly:', np.var(x_poly),\n",
        "      '\\noutlier:', np.var(x_outlier), '\\nhmm:', np.var(x_hmm), '\\n')\n",
        "\n",
        "print('Mean of y values \\nnoisy:', \"%.2f\" % y_noisy.mean(), '\\npoly: ', \"%.2f\" % y_poly.mean(), \n",
        "      '\\noutlier: ', \"%.2f\" % y_outlier.mean(), '\\nhmm: ', \"%.2f\" % y_outlier.mean(), '\\n')\n",
        "\n",
        "print('Variance of y values \\nnoisy:', \"%.2f\" % np.var(y_noisy),'\\npoly:', \"%.2f\" % np.var(y_poly),\n",
        "      '\\noutlier:', \"%.2f\" % np.var(y_outlier), '\\nhmm:', \"%.2f\" % np.var(y_hmm), '\\n')\n",
        "\n",
        "print('Correlation \\nnoisy:', \"%.2f\" % np.corrcoef(x_noisy.reshape(1,11), y_noisy.reshape(1,11))[1][0],'\\npoly:', \"%.2f\" % np.corrcoef(x_poly.reshape(1,11), y_poly.reshape(1,11))[1][0],\n",
        "      '\\noutlier:', \"%.2f\" % np.corrcoef(x_outlier.reshape(1,11), y_outlier.reshape(1,11))[1][0], '\\nhmm:', \"%.2f\" % np.corrcoef(x_hmm.reshape(1,11), y_hmm.reshape(1,11))[1][0], '\\n')\n",
        "\n",
        "print('Linear Regression Trendline \\nnoisy: ', \"%.2f\" % lreg.coef_, 'x + ', \"%.2f\" % lreg.intercept_,\n",
        "      '\\npoly: ', \"%.2f\" % lreg1.coef_, 'x + ', \"%.2f\" % lreg1.intercept_,\n",
        "      '\\noutlier: ', \"%.2f\" % lreg2.coef_, 'x + ', \"%.2f\" % lreg2.intercept_,\n",
        "      '\\nhmm: ', \"%.2f\" % lreg3.coef_, 'x + ', \"%.2f\" % lreg3.intercept_, '\\n',\n",
        "      sep = '')\n",
        "\n",
        "print('R^2 value (Coefficient of Determination) \\nnoisy:', \"%.2f\" % r2_score(y_noisy, lreg.predict(x_noisy)),\n",
        "      '\\npoly:', \"%.2f\" % r2_score(y_poly, lreg1.predict(x_poly)),\n",
        "      '\\noutlier:', \"%.2f\" % r2_score(y_outlier, lreg2.predict(x_outlier)),\n",
        "      '\\nhmm:', \"%.2f\" % r2_score(y_hmm, lreg.predict(x_hmm)),)"
      ],
      "execution_count": 20,
      "outputs": [
        {
          "output_type": "stream",
          "text": [
            "Mean of x values \n",
            "noisy: 9.0 \n",
            "poly: 9.0 \n",
            "outlier: 9.0 \n",
            "hmm: 9.0 \n",
            "\n",
            "Variance of x values \n",
            "noisy: 10.0 \n",
            "poly: 10.0 \n",
            "outlier: 10.0 \n",
            "hmm: 10.0 \n",
            "\n",
            "Mean of y values \n",
            "noisy: 7.50 \n",
            "poly:  7.50 \n",
            "outlier:  7.50 \n",
            "hmm:  7.50 \n",
            "\n",
            "Variance of y values \n",
            "noisy: 3.75 \n",
            "poly: 3.75 \n",
            "outlier: 3.75 \n",
            "hmm: 3.75 \n",
            "\n",
            "Correlation \n",
            "noisy: 0.82 \n",
            "poly: 0.82 \n",
            "outlier: 0.82 \n",
            "hmm: 0.82 \n",
            "\n",
            "Linear Regression Trendline: \n",
            "noisy: 0.50x + 3.00\n",
            "poly: 0.50x + 3.00\n",
            "outlier: 0.50x + 3.00\n",
            "hmm: 0.50x + 3.00\n",
            "\n",
            "R^2 value (Coefficient of Determination) \n",
            "noisy: 0.67 \n",
            "poly: 0.67 \n",
            "outlier: 0.67 \n",
            "hmm: 0.67\n"
          ],
          "name": "stdout"
        }
      ]
    },
    {
      "cell_type": "code",
      "metadata": {
        "id": "TFbbBZY-4Ij7",
        "colab_type": "code",
        "colab": {
          "base_uri": "https://localhost:8080/",
          "height": 265
        },
        "outputId": "13dbd91d-5e52-4587-ffe9-e0d678683bc6"
      },
      "source": [
        "plt.figure()\n",
        "plt.subplot(221)\n",
        "plt.plot(x_noisy, lreg.predict(x_noisy), color = 'k')\n",
        "plt.scatter(x_noisy, y_noisy, color = 'g')\n",
        "\n",
        "plt.subplot(222)\n",
        "plt.plot(x_poly, lreg1.predict(x_poly), color = 'k')\n",
        "plt.scatter(x_poly, y_poly, color = 'g')\n",
        "\n",
        "plt.subplot(223)\n",
        "plt.plot(x_outlier, lreg2.predict(x_outlier), color = 'k')\n",
        "plt.scatter(x_outlier, y_outlier, color = 'g')\n",
        "\n",
        "plt.subplot(224)\n",
        "plt.plot(x_hmm, lreg3.predict(x_hmm), color = 'k')\n",
        "plt.scatter(x_hmm, y_hmm, color = 'g')\n",
        "\n",
        "plt.show()"
      ],
      "execution_count": 21,
      "outputs": [
        {
          "output_type": "display_data",
          "data": {
            "image/png": "[encoded data removed]",
            "text/plain": [
              "<Figure size 432x288 with 4 Axes>"
            ]
          },
          "metadata": {
            "tags": []
          }
        }
      ]
    }
  ]
}