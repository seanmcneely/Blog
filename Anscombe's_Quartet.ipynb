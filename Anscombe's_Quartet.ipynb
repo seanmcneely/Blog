{
  "nbformat": 4,
  "nbformat_minor": 0,
  "metadata": {
    "colab": {
      "name": "Anscombe's Quartet.ipynb",
      "provenance": []
    },
    "kernelspec": {
      "name": "python3",
      "display_name": "Python 3"
    }
  },
  "cells": [
    {
      "cell_type": "markdown",
      "metadata": {
        "id": "DDuxvv03_mWc",
        "colab_type": "text"
      },
      "source": [
        "This notebook is a brief introduction to Anscombe's Quartet, a group of 4 datasets that show how simple descriptive statistics can be deceptive! I have named Anscombe's four datasets 'noisy', 'poly', 'outlier', and 'hmm'... Each dataset has eleven data points. Run this cell to get the summary statistics of these four famous datasets, including their means, correlations, lines of best fit, and more!"
      ]
    },
    {
      "cell_type": "code",
      "metadata": {
        "id": "HQvwt46Lq2PC",
        "colab_type": "code",
        "outputId": "ab1da400-33c7-40c4-8d07-925105b636d4",
        "colab": {
          "base_uri": "https://localhost:8080/",
          "height": 1000
        }
      },
      "source": [
        "import numpy as np\n",
        "from sklearn.linear_model import LinearRegression\n",
        "from sklearn.metrics import mean_squared_error, r2_score\n",
        "from matplotlib import pyplot as plt\n",
        "from tabulate import tabulate\n",
        "\n",
        "x_noisy = np.array([10.0, 8, 13, 9, 11, 14, 6, 4, 12, 7, 5]).reshape(-1, 1)\n",
        "y_noisy = np.array([8.04, 6.95, 7.58, 8.81, 8.33, 9.96, 7.24, 4.26, 10.84, 4.82, 5.68])\n",
        "\n",
        "x_poly = np.array([10, 8, 13, 9, 11, 14, 6, 4, 12, 7, 5]).reshape(-1, 1)\n",
        "y_poly = np.array([9.14, 8.14, 8.74, 8.77, 9.26, 8.1, 6.13, 3.1, 9.13, 7.26, 4.74])\n",
        "\n",
        "x_outlier = np.array([10, 8, 13, 9, 11, 14, 6, 4, 12, 7, 5]).reshape(-1, 1)\n",
        "y_outlier = np.array([7.46, 6.77, 12.74, 7.11, 7.81, 8.84, 6.08, 5.39, 8.15, 6.42, 5.73])\n",
        "\n",
        "x_hmm = np.array([8, 8, 8, 8, 8, 8, 8, 19, 8, 8, 8]).reshape(-1, 1)\n",
        "y_hmm = np.array([6.58, 5.76, 7.71, 8.84, 8.47, 7.04, 5.25, 12.5, 5.56, 7.91, 6.89])\n",
        "\n",
        "m = np.concatenate((x_noisy, y_noisy.reshape(-1,1), x_poly, y_poly.reshape(-1,1), x_outlier, y_outlier.reshape(-1,1),\n",
        "                    x_hmm, y_hmm.reshape(-1,1)), axis = 1)\n",
        "headers = [\"x_noisy\", \"y_noisy\", \"x_poly\", \"y_poly\", \"x_outlier\", \"y_outlier\", \"x_hmm\", \"y_hmm\"]\n",
        "table = tabulate(m, headers, tablefmt=\"fancy_grid\")\n",
        "print(table)\n",
        "\n",
        "lreg = LinearRegression()\n",
        "lreg1 = LinearRegression()\n",
        "lreg2 = LinearRegression()\n",
        "lreg3 = LinearRegression()\n",
        "\n",
        "lreg.fit(x_noisy, y_noisy)\n",
        "lreg1.fit(x_poly, y_poly)\n",
        "lreg2.fit(x_outlier, y_outlier)\n",
        "lreg3.fit(x_hmm, y_hmm)\n",
        "\n",
        "print('Mean of x values \\nnoisy:', x_noisy.mean(), '\\npoly:', x_poly.mean(), \n",
        "      '\\noutlier:', x_outlier.mean(), '\\nhmm:', x_outlier.mean(), '\\n')\n",
        "\n",
        "print('Variance of x values \\nnoisy:', np.var(x_noisy),'\\npoly:', np.var(x_poly),\n",
        "      '\\noutlier:', np.var(x_outlier), '\\nhmm:', np.var(x_hmm), '\\n')\n",
        "\n",
        "print('Mean of y values \\nnoisy:', \"%.2f\" % y_noisy.mean(), '\\npoly: ', \"%.2f\" % y_poly.mean(), \n",
        "      '\\noutlier: ', \"%.2f\" % y_outlier.mean(), '\\nhmm: ', \"%.2f\" % y_outlier.mean(), '\\n')\n",
        "\n",
        "print('Variance of y values \\nnoisy:', \"%.2f\" % np.var(y_noisy),'\\npoly:', \"%.2f\" % np.var(y_poly),\n",
        "      '\\noutlier:', \"%.2f\" % np.var(y_outlier), '\\nhmm:', \"%.2f\" % np.var(y_hmm), '\\n')\n",
        "\n",
        "print('Correlation \\nnoisy:', \"%.2f\" % np.corrcoef(x_noisy.reshape(1,11), y_noisy.reshape(1,11))[1][0],'\\npoly:', \"%.2f\" % np.corrcoef(x_poly.reshape(1,11), y_poly.reshape(1,11))[1][0],\n",
        "      '\\noutlier:', \"%.2f\" % np.corrcoef(x_outlier.reshape(1,11), y_outlier.reshape(1,11))[1][0], '\\nhmm:', \"%.2f\" % np.corrcoef(x_hmm.reshape(1,11), y_hmm.reshape(1,11))[1][0], '\\n')\n",
        "\n",
        "print('Linear Regression Trendline \\nnoisy: ', \"%.2f\" % lreg.coef_, 'x + ', \"%.2f\" % lreg.intercept_,\n",
        "      '\\npoly: ', \"%.2f\" % lreg1.coef_, 'x + ', \"%.2f\" % lreg1.intercept_,\n",
        "      '\\noutlier: ', \"%.2f\" % lreg2.coef_, 'x + ', \"%.2f\" % lreg2.intercept_,\n",
        "      '\\nhmm: ', \"%.2f\" % lreg3.coef_, 'x + ', \"%.2f\" % lreg3.intercept_, '\\n',\n",
        "      sep = '')\n",
        "\n",
        "print('R^2 value (Coefficient of Determination) \\nnoisy:', \"%.2f\" % r2_score(y_noisy, lreg.predict(x_noisy)),\n",
        "      '\\npoly:', \"%.2f\" % r2_score(y_poly, lreg1.predict(x_poly)),\n",
        "      '\\noutlier:', \"%.2f\" % r2_score(y_outlier, lreg2.predict(x_outlier)),\n",
        "      '\\nhmm:', \"%.2f\" % r2_score(y_hmm, lreg.predict(x_hmm)),)"
      ],
      "execution_count": 0,
      "outputs": [
        {
          "output_type": "stream",
          "text": [
            "╒═══════════╤═══════════╤══════════╤══════════╤═════════════╤═════════════╤═════════╤═════════╕\n",
            "│   x_noisy │   y_noisy │   x_poly │   y_poly │   x_outlier │   y_outlier │   x_hmm │   y_hmm │\n",
            "╞═══════════╪═══════════╪══════════╪══════════╪═════════════╪═════════════╪═════════╪═════════╡\n",
            "│        10 │      8.04 │       10 │     9.14 │          10 │        7.46 │       8 │    6.58 │\n",
            "├───────────┼───────────┼──────────┼──────────┼─────────────┼─────────────┼─────────┼─────────┤\n",
            "│         8 │      6.95 │        8 │     8.14 │           8 │        6.77 │       8 │    5.76 │\n",
            "├───────────┼───────────┼──────────┼──────────┼─────────────┼─────────────┼─────────┼─────────┤\n",
            "│        13 │      7.58 │       13 │     8.74 │          13 │       12.74 │       8 │    7.71 │\n",
            "├───────────┼───────────┼──────────┼──────────┼─────────────┼─────────────┼─────────┼─────────┤\n",
            "│         9 │      8.81 │        9 │     8.77 │           9 │        7.11 │       8 │    8.84 │\n",
            "├───────────┼───────────┼──────────┼──────────┼─────────────┼─────────────┼─────────┼─────────┤\n",
            "│        11 │      8.33 │       11 │     9.26 │          11 │        7.81 │       8 │    8.47 │\n",
            "├───────────┼───────────┼──────────┼──────────┼─────────────┼─────────────┼─────────┼─────────┤\n",
            "│        14 │      9.96 │       14 │     8.1  │          14 │        8.84 │       8 │    7.04 │\n",
            "├───────────┼───────────┼──────────┼──────────┼─────────────┼─────────────┼─────────┼─────────┤\n",
            "│         6 │      7.24 │        6 │     6.13 │           6 │        6.08 │       8 │    5.25 │\n",
            "├───────────┼───────────┼──────────┼──────────┼─────────────┼─────────────┼─────────┼─────────┤\n",
            "│         4 │      4.26 │        4 │     3.1  │           4 │        5.39 │      19 │   12.5  │\n",
            "├───────────┼───────────┼──────────┼──────────┼─────────────┼─────────────┼─────────┼─────────┤\n",
            "│        12 │     10.84 │       12 │     9.13 │          12 │        8.15 │       8 │    5.56 │\n",
            "├───────────┼───────────┼──────────┼──────────┼─────────────┼─────────────┼─────────┼─────────┤\n",
            "│         7 │      4.82 │        7 │     7.26 │           7 │        6.42 │       8 │    7.91 │\n",
            "├───────────┼───────────┼──────────┼──────────┼─────────────┼─────────────┼─────────┼─────────┤\n",
            "│         5 │      5.68 │        5 │     4.74 │           5 │        5.73 │       8 │    6.89 │\n",
            "╘═══════════╧═══════════╧══════════╧══════════╧═════════════╧═════════════╧═════════╧═════════╛\n",
            "Mean of x values \n",
            "noisy: 9.0 \n",
            "poly: 9.0 \n",
            "outlier: 9.0 \n",
            "hmm: 9.0 \n",
            "\n",
            "Variance of x values \n",
            "noisy: 10.0 \n",
            "poly: 10.0 \n",
            "outlier: 10.0 \n",
            "hmm: 10.0 \n",
            "\n",
            "Mean of y values \n",
            "noisy: 7.50 \n",
            "poly:  7.50 \n",
            "outlier:  7.50 \n",
            "hmm:  7.50 \n",
            "\n",
            "Variance of y values \n",
            "noisy: 3.75 \n",
            "poly: 3.75 \n",
            "outlier: 3.75 \n",
            "hmm: 3.75 \n",
            "\n",
            "Correlation \n",
            "noisy: 0.82 \n",
            "poly: 0.82 \n",
            "outlier: 0.82 \n",
            "hmm: 0.82 \n",
            "\n",
            "Linear Regression Trendline \n",
            "noisy: 0.50x + 3.00\n",
            "poly: 0.50x + 3.00\n",
            "outlier: 0.50x + 3.00\n",
            "hmm: 0.50x + 3.00\n",
            "\n",
            "R^2 value (Coefficient of Determination) \n",
            "noisy: 0.67 \n",
            "poly: 0.67 \n",
            "outlier: 0.67 \n",
            "hmm: 0.67\n"
          ],
          "name": "stdout"
        }
      ]
    },
    {
      "cell_type": "markdown",
      "metadata": {
        "id": "fCZBIFAMAt2E",
        "colab_type": "text"
      },
      "source": [
        "As we can see, the four datasets have almost identical summary statistics. That must mean they are very similar... right? Before running the next cell, take a second to envision what the datasets that generated these statistics might look like. Eleven datapoints, all with a trendline of 0.5x + 3, correlation of 0.82, R^2 of 0.67... etc. Try to graph the datasets in your mind, then run the next cell"
      ]
    },
    {
      "cell_type": "code",
      "metadata": {
        "id": "TFbbBZY-4Ij7",
        "colab_type": "code",
        "outputId": "f1f148ec-4279-4388-9474-3677c4c34288",
        "colab": {
          "base_uri": "https://localhost:8080/",
          "height": 325
        }
      },
      "source": [
        "fig = plt.figure()\n",
        "fig.suptitle('Datasets with Similar Statistics Plotted', fontsize=16, y = 1.06)\n",
        "\n",
        "plt.subplot(221)\n",
        "plt.axis((3, 20, 2, 14))\n",
        "plt.scatter(x_noisy, y_noisy, color = 'g')\n",
        "plt.title('noisy')\n",
        "\n",
        "plt.subplot(222)\n",
        "plt.axis((3, 20, 2, 14))\n",
        "plt.scatter(x_poly, y_poly, color = 'g')\n",
        "plt.title('poly')\n",
        "\n",
        "plt.subplot(223)\n",
        "plt.axis((3, 20, 2, 14))\n",
        "plt.scatter(x_outlier, y_outlier, color = 'g')\n",
        "plt.title('outlier')\n",
        "\n",
        "plt.subplot(224)\n",
        "plt.axis((3, 20, 2, 14))\n",
        "plt.scatter(x_hmm, y_hmm, color = 'g')\n",
        "plt.title('hmm')\n",
        "\n",
        "plt.tight_layout()\n",
        "plt.show()"
      ],
      "execution_count": 0,
      "outputs": [
        {
          "output_type": "display_data",
          "data": {
            "image/png": "[encoded data removed]",
            "text/plain": [
              "<Figure size 432x288 with 4 Axes>"
            ]
          },
          "metadata": {
            "tags": []
          }
        }
      ]
    },
    {
      "cell_type": "markdown",
      "metadata": {
        "id": "HAOaPNNFBu_Y",
        "colab_type": "text"
      },
      "source": [
        "Wow! Those graphs don't look similar at all! Which of the datasets above do you think demonstrate a linear relationship between x and y? Why do you think this? After all, all four datasets have the exact same R^2 value, indicating the same amount of variance in y that can be explained by a linear function of x. Anscombe's quartet goes to show that even basic summary statistics can be misleading, and sometimes visualization conveys information that summary statistics might miss. Run the cell below to see the graphs above with their trendlines added"
      ]
    },
    {
      "cell_type": "code",
      "metadata": {
        "id": "occ1Ct0z-nTC",
        "colab_type": "code",
        "outputId": "829d23d4-71ee-44c5-d818-0beb1bfae422",
        "colab": {
          "base_uri": "https://localhost:8080/",
          "height": 325
        }
      },
      "source": [
        "fig = plt.figure()\n",
        "fig.suptitle('Same trendline and R^2!!!', fontsize=16, y = 1.06)\n",
        "\n",
        "plt.subplot(221)\n",
        "plt.axis((3, 20, 2, 14))\n",
        "plt.plot(x_noisy, lreg.predict(x_noisy), color = 'k')\n",
        "plt.scatter(x_noisy, y_noisy, color = 'g')\n",
        "plt.title('noisy')\n",
        "\n",
        "\n",
        "plt.subplot(222)\n",
        "plt.axis((3, 20, 2, 14))\n",
        "plt.plot(x_poly, lreg1.predict(x_poly), color = 'k')\n",
        "plt.scatter(x_poly, y_poly, color = 'g')\n",
        "plt.title('poly')\n",
        "\n",
        "plt.subplot(223)\n",
        "plt.axis((3, 20, 2, 14))\n",
        "plt.plot(x_outlier, lreg2.predict(x_outlier), color = 'k')\n",
        "plt.scatter(x_outlier, y_outlier, color = 'g')\n",
        "plt.title('outlier')\n",
        "\n",
        "plt.subplot(224)\n",
        "plt.axis((3, 20, 2, 14))\n",
        "plt.plot(x_hmm, lreg3.predict(x_hmm), color = 'k')\n",
        "plt.scatter(x_hmm, y_hmm, color = 'g')\n",
        "plt.title('hmm')\n",
        "\n",
        "plt.tight_layout()\n",
        "plt.show()"
      ],
      "execution_count": 0,
      "outputs": [
        {
          "output_type": "display_data",
          "data": {
            "image/png": "[encoded data removed]",
            "text/plain": [
              "<Figure size 432x288 with 4 Axes>"
            ]
          },
          "metadata": {
            "tags": []
          }
        }
      ]
    },
    {
      "cell_type": "markdown",
      "metadata": {
        "id": "vY6M9VVrUMjR",
        "colab_type": "text"
      },
      "source": [
        "What does it mean to *understand* the datasets above? What other summary statistics might better capture the differences between each dataset? When I first saw the top right dataset plotted, it looked to my eyes that the data could have been generated by a second order polynomial function. Further, it appears that the linear regression trendline is underfitting the poly dataset. To explore this hypothesis, lets perform polynomial regression on the datasets! "
      ]
    },
    {
      "cell_type": "code",
      "metadata": {
        "id": "iRQLqQEpcqMY",
        "colab_type": "code",
        "outputId": "4bb4126b-ffd9-4f37-80bc-47cafcfa5b7b",
        "colab": {
          "base_uri": "https://localhost:8080/",
          "height": 678
        }
      },
      "source": [
        "from sklearn.preprocessing import PolynomialFeatures\n",
        "import operator\n",
        "\n",
        "polynomial_features= PolynomialFeatures(degree=2)\n",
        "\n",
        "x_noisy = np.array([10.0, 8, 13, 9, 11, 14, 6, 4, 12, 7, 5]).reshape(-1, 1)\n",
        "y_noisy = np.array([8.04, 6.95, 7.58, 8.81, 8.33, 9.96, 7.24, 4.26, 10.84, 4.82, 5.68])\n",
        "\n",
        "x_poly = np.array([10, 8, 13, 9, 11, 14, 6, 4, 12, 7, 5]).reshape(-1, 1)\n",
        "y_poly = np.array([9.14, 8.14, 8.74, 8.77, 9.26, 8.1, 6.13, 3.1, 9.13, 7.26, 4.74])\n",
        "\n",
        "x_outlier = np.array([10, 8, 13, 9, 11, 14, 6, 4, 12, 7, 5]).reshape(-1, 1)\n",
        "y_outlier = np.array([7.46, 6.77, 12.74, 7.11, 7.81, 8.84, 6.08, 5.39, 8.15, 6.42, 5.73])\n",
        "\n",
        "x_hmm = np.array([8, 8, 8, 8, 8, 8, 8, 19, 8, 8, 8]).reshape(-1, 1)\n",
        "y_hmm = np.array([6.58, 5.76, 7.71, 8.84, 8.47, 7.04, 5.25, 12.5, 5.56, 7.91, 6.89])\n",
        "\n",
        "Px_noisy = polynomial_features.fit_transform(x_noisy)\n",
        "Px_poly = polynomial_features.fit_transform(x_poly)\n",
        "Px_outlier = polynomial_features.fit_transform(x_outlier)\n",
        "Px_hmm = polynomial_features.fit_transform(x_hmm)\n",
        "\n",
        "lreg.fit(Px_noisy, y_noisy)\n",
        "lreg1.fit(Px_poly, y_poly)\n",
        "lreg2.fit(Px_outlier, y_outlier)\n",
        "lreg3.fit(Px_hmm, y_hmm)\n",
        "\n",
        "y_noisy_pred = lreg.predict(Px_noisy)\n",
        "rmse = np.sqrt(mean_squared_error(y_noisy, y_noisy_pred))\n",
        "r2 = r2_score(y_noisy,y_noisy_pred)\n",
        "\n",
        "y_poly_pred = lreg1.predict(Px_poly)\n",
        "rmse1 = np.sqrt(mean_squared_error(y_poly, y_poly_pred))\n",
        "r21 = r2_score(y_poly ,y_poly_pred)\n",
        "\n",
        "y_outlier_pred = lreg2.predict(Px_outlier)\n",
        "rmse2 = np.sqrt(mean_squared_error(y_outlier, y_outlier_pred))\n",
        "r22 = r2_score(y_outlier ,y_outlier_pred)\n",
        "\n",
        "y_hmm_pred = lreg3.predict(Px_hmm)\n",
        "rmse3 = np.sqrt(mean_squared_error(y_hmm, y_hmm_pred))\n",
        "r23 = r2_score(y_hmm ,y_hmm_pred)\n",
        "\n",
        "print('Root Mean Square Error \\nnoisy:', \"%.2f\" % rmse, '\\npoly: ', \"%.2f\" % rmse1 ,\n",
        "      '\\noutlier: ', \"%.2f\" % rmse2, '\\nhmm: ', \"%.2f\" % rmse3, '\\n')\n",
        "\n",
        "print('R^2 value \\nnoisy:', \"%.2f\" % r2, '\\npoly: ', \"%.2f\" % r21 ,\n",
        "      '\\noutlier: ', \"%.2f\" % r22, '\\nhmm: ', \"%.2f\" % r23, '\\n')\n",
        "\n",
        "fig = plt.figure()\n",
        "fig.suptitle('Deg 2 Polynomial Regression on AQ', fontsize=16, y = 1.01)\n",
        "\n",
        "plt.subplot(221)\n",
        "plt.scatter(x_noisy, y_noisy, s=10)\n",
        "sort_axis = operator.itemgetter(0)\n",
        "sorted_zip = sorted(zip(x_noisy,y_noisy_pred), key=sort_axis)\n",
        "x_noisy, y_noisy_pred = zip(*sorted_zip)\n",
        "plt.plot(x_noisy, y_noisy_pred, color='m')\n",
        "plt.title('noisy')\n",
        "\n",
        "plt.subplot(222)\n",
        "plt.scatter(x_poly, y_poly, s=10)\n",
        "sort_axis = operator.itemgetter(0)\n",
        "sorted_zip = sorted(zip(x_poly, y_poly_pred), key=sort_axis)\n",
        "x_poly, y_poly_pred = zip(*sorted_zip)\n",
        "plt.plot(x_poly, y_poly_pred, color='m')\n",
        "plt.title('poly')\n",
        "plt.show()\n",
        "\n",
        "plt.subplot(223)\n",
        "plt.scatter(x_outlier, y_outlier, s=10)\n",
        "sort_axis = operator.itemgetter(0)\n",
        "sorted_zip = sorted(zip(x_outlier, y_outlier_pred), key=sort_axis)\n",
        "x_outlier, y_outlier_pred = zip(*sorted_zip)\n",
        "plt.plot(x_outlier, y_outlier_pred, color='m')\n",
        "plt.title('outlier')\n",
        "plt.show()\n",
        "\n",
        "plt.subplot(224)\n",
        "plt.scatter(x_hmm, y_hmm, s=10)\n",
        "sort_axis = operator.itemgetter(0)\n",
        "sorted_zip = sorted(zip(x_hmm, y_hmm_pred), key=sort_axis)\n",
        "x_hmm, y_hmm_pred = zip(*sorted_zip)\n",
        "plt.plot(x_hmm, y_hmm_pred, color='m')\n",
        "plt.title('hmm')\n",
        "\n",
        "plt.show()"
      ],
      "execution_count": 0,
      "outputs": [
        {
          "output_type": "stream",
          "text": [
            "Root Mean Square Error \n",
            "noisy: 1.08 \n",
            "poly:  0.00 \n",
            "outlier:  1.09 \n",
            "hmm:  1.12 \n",
            "\n",
            "R^2 value \n",
            "noisy: 0.69 \n",
            "poly:  1.00 \n",
            "outlier:  0.68 \n",
            "hmm:  0.67 \n",
            "\n"
          ],
          "name": "stdout"
        },
        {
          "output_type": "display_data",
          "data": {
            "image/png": "[encoded data removed]",
            "text/plain": [
              "<Figure size 432x288 with 2 Axes>"
            ]
          },
          "metadata": {
            "tags": []
          }
        },
        {
          "output_type": "display_data",
          "data": {
            "image/png": "[encoded data removed]",
            "text/plain": [
              "<Figure size 432x288 with 1 Axes>"
            ]
          },
          "metadata": {
            "tags": []
          }
        },
        {
          "output_type": "display_data",
          "data": {
            "image/png": "[encoded data removed]",
            "text/plain": [
              "<Figure size 432x288 with 1 Axes>"
            ]
          },
          "metadata": {
            "tags": []
          }
        }
      ]
    },
    {
      "cell_type": "markdown",
      "metadata": {
        "id": "FDiOrn5yoddc",
        "colab_type": "text"
      },
      "source": [
        "As we guessed, a second degree polynomial fits the 'poly' dataset very well, both visually, and as evidenced by its R^2 and RMSE values. The other datasets do not benefit as much from the increased model capacity. Visually, the poly dataset 'looked' like it was generated by a second degree polynomial, prompting this experiment. **However** keep in mind that *all* of the datasets besides 'hmm' can be fitted exactly by a 10th degree function (since they each have 11 datapoints with a single y value for every x). This polynomial is called the Lagrange polynomial. Do these datasets *look like* they were generated by a 10th degree polynomial? How do you know? As a final experiment, lets use polynomial regression again, this time including terms up to the 10th degree"
      ]
    },
    {
      "cell_type": "code",
      "metadata": {
        "id": "94xe1NRxjKAw",
        "colab_type": "code",
        "outputId": "c1618896-f74e-4fbc-b259-9ba572e766b7",
        "colab": {
          "base_uri": "https://localhost:8080/",
          "height": 678
        }
      },
      "source": [
        "polynomial_features= PolynomialFeatures(degree=10)\n",
        "\n",
        "x_noisy = np.array([10.0, 8, 13, 9, 11, 14, 6, 4, 12, 7, 5]).reshape(-1, 1)\n",
        "y_noisy = np.array([8.04, 6.95, 7.58, 8.81, 8.33, 9.96, 7.24, 4.26, 10.84, 4.82, 5.68])\n",
        "\n",
        "x_poly = np.array([10, 8, 13, 9, 11, 14, 6, 4, 12, 7, 5]).reshape(-1, 1)\n",
        "y_poly = np.array([9.14, 8.14, 8.74, 8.77, 9.26, 8.1, 6.13, 3.1, 9.13, 7.26, 4.74])\n",
        "\n",
        "x_outlier = np.array([10, 8, 13, 9, 11, 14, 6, 4, 12, 7, 5]).reshape(-1, 1)\n",
        "y_outlier = np.array([7.46, 6.77, 12.74, 7.11, 7.81, 8.84, 6.08, 5.39, 8.15, 6.42, 5.73])\n",
        "\n",
        "x_hmm = np.array([8, 8, 8, 8, 8, 8, 8, 19, 8, 8, 8]).reshape(-1, 1)\n",
        "y_hmm = np.array([6.58, 5.76, 7.71, 8.84, 8.47, 7.04, 5.25, 12.5, 5.56, 7.91, 6.89])\n",
        "\n",
        "Px_noisy = polynomial_features.fit_transform(x_noisy)\n",
        "Px_poly = polynomial_features.fit_transform(x_poly)\n",
        "Px_outlier = polynomial_features.fit_transform(x_outlier)\n",
        "Px_hmm = polynomial_features.fit_transform(x_hmm)\n",
        "\n",
        "lreg.fit(Px_noisy, y_noisy)\n",
        "lreg1.fit(Px_poly, y_poly)\n",
        "lreg2.fit(Px_outlier, y_outlier)\n",
        "lreg3.fit(Px_hmm, y_hmm)\n",
        "\n",
        "y_noisy_pred = lreg.predict(Px_noisy)\n",
        "rmse = np.sqrt(mean_squared_error(y_noisy, y_noisy_pred))\n",
        "r2 = r2_score(y_noisy,y_noisy_pred)\n",
        "\n",
        "y_poly_pred = lreg1.predict(Px_poly)\n",
        "rmse1 = np.sqrt(mean_squared_error(y_poly, y_poly_pred))\n",
        "r21 = r2_score(y_poly ,y_poly_pred)\n",
        "\n",
        "y_outlier_pred = lreg2.predict(Px_outlier)\n",
        "rmse2 = np.sqrt(mean_squared_error(y_outlier, y_outlier_pred))\n",
        "r22 = r2_score(y_outlier ,y_outlier_pred)\n",
        "\n",
        "y_hmm_pred = lreg3.predict(Px_hmm)\n",
        "rmse3 = np.sqrt(mean_squared_error(y_hmm, y_hmm_pred))\n",
        "r23 = r2_score(y_hmm ,y_hmm_pred)\n",
        "\n",
        "print('Root Mean Square Error \\nnoisy:', \"%.2f\" % rmse, '\\npoly: ', \"%.2f\" % rmse1 ,\n",
        "      '\\noutlier: ', \"%.2f\" % rmse2, '\\nhmm: ', \"%.2f\" % rmse3, '\\n')\n",
        "\n",
        "print('R^2 value \\nnoisy:', \"%.2f\" % r2, '\\npoly: ', \"%.2f\" % r21 ,\n",
        "      '\\noutlier: ', \"%.2f\" % r22, '\\nhmm: ', \"%.2f\" % r23, '\\n')\n",
        "\n",
        "fig = plt.figure()\n",
        "fig.suptitle('Deg 10 Polynomial Regression on AQ', fontsize=16, y = 1.01)\n",
        "\n",
        "plt.subplot(221)\n",
        "plt.scatter(x_noisy, y_noisy, s=10)\n",
        "sort_axis = operator.itemgetter(0)\n",
        "sorted_zip = sorted(zip(x_noisy,y_noisy_pred), key=sort_axis)\n",
        "x_noisy, y_noisy_pred = zip(*sorted_zip)\n",
        "plt.plot(x_noisy, y_noisy_pred, color='m')\n",
        "plt.title('noisy')\n",
        "\n",
        "plt.subplot(222)\n",
        "plt.scatter(x_poly, y_poly, s=10)\n",
        "sort_axis = operator.itemgetter(0)\n",
        "sorted_zip = sorted(zip(x_poly, y_poly_pred), key=sort_axis)\n",
        "x_poly, y_poly_pred = zip(*sorted_zip)\n",
        "plt.plot(x_poly, y_poly_pred, color='m')\n",
        "plt.title('poly')\n",
        "plt.show()\n",
        "\n",
        "plt.subplot(223)\n",
        "plt.scatter(x_outlier, y_outlier, s=10)\n",
        "sort_axis = operator.itemgetter(0)\n",
        "sorted_zip = sorted(zip(x_outlier, y_outlier_pred), key=sort_axis)\n",
        "x_outlier, y_outlier_pred = zip(*sorted_zip)\n",
        "plt.plot(x_outlier, y_outlier_pred, color='m')\n",
        "plt.title('outlier')\n",
        "plt.show()\n",
        "\n",
        "plt.subplot(224)\n",
        "plt.scatter(x_hmm, y_hmm, s=10)\n",
        "sort_axis = operator.itemgetter(0)\n",
        "sorted_zip = sorted(zip(x_hmm, y_hmm_pred), key=sort_axis)\n",
        "x_hmm, y_hmm_pred = zip(*sorted_zip)\n",
        "plt.plot(x_hmm, y_hmm_pred, color='m')\n",
        "plt.title('hmm')\n",
        "\n",
        "plt.show()"
      ],
      "execution_count": 0,
      "outputs": [
        {
          "output_type": "stream",
          "text": [
            "Root Mean Square Error \n",
            "noisy: 0.06 \n",
            "poly:  0.00 \n",
            "outlier:  0.02 \n",
            "hmm:  1.12 \n",
            "\n",
            "R^2 value \n",
            "noisy: 1.00 \n",
            "poly:  1.00 \n",
            "outlier:  1.00 \n",
            "hmm:  0.67 \n",
            "\n"
          ],
          "name": "stdout"
        },
        {
          "output_type": "display_data",
          "data": {
            "image/png": "[encoded data removed]",
            "text/plain": [
              "<Figure size 432x288 with 2 Axes>"
            ]
          },
          "metadata": {
            "tags": []
          }
        },
        {
          "output_type": "display_data",
          "data": {
            "image/png": "[encoded data removed]",
            "text/plain": [
              "<Figure size 432x288 with 1 Axes>"
            ]
          },
          "metadata": {
            "tags": []
          }
        },
        {
          "output_type": "display_data",
          "data": {
            "image/png": "[encoded data removed]",
            "text/plain": [
              "<Figure size 432x288 with 1 Axes>"
            ]
          },
          "metadata": {
            "tags": []
          }
        }
      ]
    },
    {
      "cell_type": "markdown",
      "metadata": {
        "id": "eKyt0HAdqTl9",
        "colab_type": "text"
      },
      "source": [
        "The plots aren't so good, but you get the point. We could calculate an exact polynomial that fits 'noisy', 'poly', and 'outlier' with zero error. With all this in mind, what measures that we have calculated so far best capture an *understanding* of the datasets? If we had more data, how would this change? Thanks for reading, and I hope you'll keep this in mind the next time you are trying to turn data into understanding/intelligence!"
      ]
    }
  ]
}